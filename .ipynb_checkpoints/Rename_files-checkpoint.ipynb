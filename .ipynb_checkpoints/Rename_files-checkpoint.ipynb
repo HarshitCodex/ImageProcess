{
 "cells": [
  {
   "cell_type": "code",
   "execution_count": 2,
   "metadata": {},
   "outputs": [],
   "source": [
    "import glob,re,os"
   ]
  },
  {
   "cell_type": "code",
   "execution_count": 3,
   "metadata": {},
   "outputs": [
    {
     "data": {
      "text/plain": [
       "'C:\\\\Users\\\\Admin\\\\Desktop\\\\ImageProcess'"
      ]
     },
     "execution_count": 3,
     "metadata": {},
     "output_type": "execute_result"
    }
   ],
   "source": [
    "pwd"
   ]
  },
  {
   "cell_type": "code",
   "execution_count": 4,
   "metadata": {},
   "outputs": [
    {
     "name": "stdout",
     "output_type": "stream",
     "text": [
      " Volume in drive C has no label.\n",
      " Volume Serial Number is 9295-0D26\n",
      "\n",
      " Directory of C:\\Users\\Admin\\Desktop\\ImageProcess\n",
      "\n",
      "28-01-2020  20:41    <DIR>          .\n",
      "28-01-2020  20:41    <DIR>          ..\n",
      "28-01-2020  19:35    <DIR>          .ipynb_checkpoints\n",
      "28-01-2020  20:40    <DIR>          CamImg\n",
      "20-01-2020  19:12           559,425 DarkSight_Histo.ipynb\n",
      "20-01-2020  19:14            36,288 DarkSight_Opencv.ipynb\n",
      "28-01-2020  18:43    <DIR>          dataset\n",
      "28-01-2020  18:08       763,390,983 Dataset.zip\n",
      "23-01-2020  16:49    <DIR>          Rawimg\n",
      "28-01-2020  20:41            10,251 Rename_files.ipynb\n",
      "27-01-2020  20:25    <DIR>          Texts\n",
      "               4 File(s)    763,996,947 bytes\n",
      "               7 Dir(s)  50,661,134,336 bytes free\n"
     ]
    }
   ],
   "source": [
    "%ls"
   ]
  },
  {
   "cell_type": "code",
   "execution_count": 5,
   "metadata": {},
   "outputs": [
    {
     "name": "stdout",
     "output_type": "stream",
     "text": [
      "C:\\Users\\Admin\\Desktop\\ImageProcess\\CamImg\n"
     ]
    }
   ],
   "source": [
    "%cd CamImg"
   ]
  },
  {
   "cell_type": "code",
   "execution_count": null,
   "metadata": {},
   "outputs": [],
   "source": []
  },
  {
   "cell_type": "code",
   "execution_count": 6,
   "metadata": {},
   "outputs": [],
   "source": [
    "counter=0"
   ]
  },
  {
   "cell_type": "code",
   "execution_count": 9,
   "metadata": {},
   "outputs": [
    {
     "name": "stdout",
     "output_type": "stream",
     "text": [
      " Volume in drive C has no label.\n",
      " Volume Serial Number is 9295-0D26\n",
      "\n",
      " Directory of C:\\Users\\Admin\\Desktop\\ImageProcess\\CamImg\n",
      "\n",
      "28-01-2020  22:29    <DIR>          .\n",
      "28-01-2020  22:29    <DIR>          ..\n",
      "28-01-2020  20:40    <DIR>          2020-01-20 18_51_26Cannon800DShots\n",
      "20-01-2020  21:57    <DIR>          2020-01-20 19-23-43Cannon800DShots\n",
      "28-01-2020  20:40    <DIR>          2020-01-20 21-08-24Cannon800DShots\n",
      "28-01-2020  20:40    <DIR>          2020-01-20 22-04-51Cannon800DShots\n",
      "28-01-2020  20:40    <DIR>          2020-01-22 17-26-53Cannon800DShots\n",
      "22-01-2020  22:19    <DIR>          2020-01-22 22-19-06Cannon800DShots\n",
      "28-01-2020  20:40    <DIR>          2020-01-22 22-20-11Cannon800DShots\n",
      "28-01-2020  20:40    <DIR>          2020-01-22 22-21-47Cannon800DShots\n",
      "28-01-2020  20:40    <DIR>          2020-01-22 22-26-51Cannon800DShots\n",
      "28-01-2020  20:40    <DIR>          2020-01-22 22-32-18Cannon800DShots\n",
      "28-01-2020  20:40    <DIR>          2020-01-22 22-36-23Cannon800DShots\n",
      "28-01-2020  20:40    <DIR>          2020-01-22 22-36-54Cannon800DShots\n",
      "28-01-2020  20:40    <DIR>          2020-01-22 22-39-21Cannon800DShots\n",
      "28-01-2020  20:40    <DIR>          2020-01-22 23-30-29Cannon800DShots\n",
      "28-01-2020  20:40    <DIR>          2020-01-22 23-33-56Cannon800DShots\n",
      "28-01-2020  20:40    <DIR>          2020-01-22 23-37-21Cannon800DShots\n",
      "               0 File(s)              0 bytes\n",
      "              18 Dir(s)  51,070,394,368 bytes free\n"
     ]
    }
   ],
   "source": [
    "%ls"
   ]
  },
  {
   "cell_type": "code",
   "execution_count": 15,
   "metadata": {},
   "outputs": [
    {
     "name": "stdout",
     "output_type": "stream",
     "text": [
      "2020-01-20 18_51_26Cannon800DShots\\2020-01-20 18_51_30small_longCannon800DShots.JPG 2020-01-20 18_51_26Cannon800DShots\\2020-01-20 18_51_30small_shortCannon800DShots.JPG\n",
      "2020-01-20 18_51_26Cannon800DShots\\2020-01-20 18_51_30small_longCannon800DShots.JPG 2020-01-20 18_51_26Cannon800DShots\\2020-01-20 18_51_30small_shortCannon800DShots.JPG\n",
      "2020-01-20 21-08-24Cannon800DShots\\2020-01-20 21-08-27small_longCannon800DShots.JPG 2020-01-20 21-08-24Cannon800DShots\\2020-01-20 21-08-27small_shortCannon800DShots.JPG\n",
      "2020-01-20 22-04-51Cannon800DShots\\2020-01-20 22-04-54small_longCannon800DShots.JPG 2020-01-20 22-04-51Cannon800DShots\\2020-01-20 22-04-54small_shortCannon800DShots.JPG\n",
      "2020-01-20 22-04-51Cannon800DShots\\2020-01-20 22-04-54small_longCannon800DShots.JPG 2020-01-20 22-04-51Cannon800DShots\\2020-01-20 22-04-54small_shortCannon800DShots.JPG\n",
      "2020-01-20 22-04-51Cannon800DShots\\2020-01-20 22-04-54small_longCannon800DShots.JPG 2020-01-20 22-04-51Cannon800DShots\\2020-01-20 22-04-54small_shortCannon800DShots.JPG\n",
      "2020-01-20 22-04-51Cannon800DShots\\2020-01-20 22-04-54small_longCannon800DShots.JPG 2020-01-20 22-04-51Cannon800DShots\\2020-01-20 22-04-54small_shortCannon800DShots.JPG\n",
      "2020-01-22 22-21-47Cannon800DShots\\2020-01-22 22-21-50small_longCannon800DShots.JPG 2020-01-22 22-21-47Cannon800DShots\\2020-01-22 22-21-50small_shortCannon800DShots.JPG\n",
      "2020-01-22 22-26-51Cannon800DShots\\2020-01-22 22-26-54small_longCannon800DShots.JPG 2020-01-22 22-26-51Cannon800DShots\\2020-01-22 22-26-54small_shortCannon800DShots.JPG\n",
      "2020-01-22 22-32-18Cannon800DShots\\2020-01-22 22-32-21small_longCannon800DShots.JPG 2020-01-22 22-32-18Cannon800DShots\\2020-01-22 22-32-21small_shortCannon800DShots.JPG\n",
      "2020-01-22 22-32-18Cannon800DShots\\2020-01-22 22-32-21small_longCannon800DShots.JPG 2020-01-22 22-32-18Cannon800DShots\\2020-01-22 22-32-21small_shortCannon800DShots.JPG\n",
      "2020-01-22 22-36-54Cannon800DShots\\2020-01-22 22-36-56small_longCannon800DShots.JPG 2020-01-22 22-36-54Cannon800DShots\\2020-01-22 22-36-56small_shortCannon800DShots.JPG\n",
      "2020-01-22 22-39-21Cannon800DShots\\2020-01-22 22-39-24small_longCannon800DShots.JPG 2020-01-22 22-39-21Cannon800DShots\\2020-01-22 22-39-24small_shortCannon800DShots.JPG\n",
      "2020-01-22 23-30-29Cannon800DShots\\2020-01-22 23-30-44small_longCannon800DShots.JPG 2020-01-22 23-30-29Cannon800DShots\\2020-01-22 23-30-44small_shortCannon800DShots.JPG\n",
      "2020-01-22 23-33-56Cannon800DShots\\2020-01-22 23-34-06small_longCannon800DShots.JPG 2020-01-22 23-33-56Cannon800DShots\\2020-01-22 23-34-06small_shortCannon800DShots.JPG\n",
      "2020-01-22 23-37-21Cannon800DShots\\2020-01-22 23-37-48small_longCannon800DShots.JPG 2020-01-22 23-37-21Cannon800DShots\\2020-01-22 23-37-48small_shortCannon800DShots.JPG\n"
     ]
    }
   ],
   "source": [
    "data=\"\"\n",
    "for folder in glob.glob('*Cannon*'):\n",
    "        for filename in glob.glob(os.path.join(folder,\"*small*long*.jpg\")):\n",
    "            string1 = filename\n",
    "        for filename in glob.glob(os.path.join(folder,\"*small*short*.jpg\")):\n",
    "            string2 = filename\n",
    "        data = string1 + \" \" + string2 + \"\\n\" + data\n",
    "        print(string1 + \" \" +string2)\n",
    "        counter+=1"
   ]
  },
  {
   "cell_type": "code",
   "execution_count": 16,
   "metadata": {},
   "outputs": [],
   "source": [
    "with open(\"myFile.txt\", \"w\") as myFile:\n",
    "            myFile.write(data)"
   ]
  },
  {
   "cell_type": "code",
   "execution_count": 45,
   "metadata": {},
   "outputs": [
    {
     "name": "stdout",
     "output_type": "stream",
     "text": [
      "C:\\Users\\Admin\\Desktop\\ImageProcess\n"
     ]
    }
   ],
   "source": [
    "%cd .."
   ]
  },
  {
   "cell_type": "code",
   "execution_count": null,
   "metadata": {},
   "outputs": [],
   "source": [
    "data=\"\"\n",
    "for folder in glob.glob('*Cannon*'):\n",
    "        for filename in glob.glob(os.path.join(folder,\"*small*long*.jpg\")):\n",
    "            string1 = filename\n",
    "        for filename in glob.glob(os.path.join(folder,\"*small*short*.jpg\")):\n",
    "            string2 = filename\n",
    "        data = string1 + \" \" + string2 + \"\\n\" + data\n",
    "        print(string1 + \" \" +string2)\n",
    "        counter+=1"
   ]
  }
 ],
 "metadata": {
  "kernelspec": {
   "display_name": "Python 3",
   "language": "python",
   "name": "python3"
  },
  "language_info": {
   "codemirror_mode": {
    "name": "ipython",
    "version": 3
   },
   "file_extension": ".py",
   "mimetype": "text/x-python",
   "name": "python",
   "nbconvert_exporter": "python",
   "pygments_lexer": "ipython3",
   "version": "3.7.4"
  }
 },
 "nbformat": 4,
 "nbformat_minor": 2
}
